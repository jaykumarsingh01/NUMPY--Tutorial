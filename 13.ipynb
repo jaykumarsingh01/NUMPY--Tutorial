{
 "cells": [
  {
   "cell_type": "code",
   "execution_count": 2,
   "id": "d9be79a7-efe5-413b-98eb-c7352ca6b8d0",
   "metadata": {},
   "outputs": [],
   "source": [
    "import numpy as np"
   ]
  },
  {
   "cell_type": "code",
   "execution_count": 4,
   "id": "d5f5ae22-6ac3-4616-8069-dc3d938ff3d5",
   "metadata": {},
   "outputs": [
    {
     "data": {
      "text/plain": [
       "0.2504944889312214"
      ]
     },
     "execution_count": 4,
     "metadata": {},
     "output_type": "execute_result"
    }
   ],
   "source": [
    "np.random.random()"
   ]
  },
  {
   "cell_type": "code",
   "execution_count": 8,
   "id": "9b2af3af-d191-41dd-b1c8-215135424efb",
   "metadata": {},
   "outputs": [
    {
     "data": {
      "text/plain": [
       "0.417022004702574"
      ]
     },
     "execution_count": 8,
     "metadata": {},
     "output_type": "execute_result"
    }
   ],
   "source": [
    "np.random.seed(1)\n",
    "np.random.random()"
   ]
  },
  {
   "cell_type": "code",
   "execution_count": 10,
   "id": "2381ce73-4c94-4ced-bd36-bb8fb6663521",
   "metadata": {},
   "outputs": [
    {
     "data": {
      "text/plain": [
       "28.687875149226343"
      ]
     },
     "execution_count": 10,
     "metadata": {},
     "output_type": "execute_result"
    }
   ],
   "source": [
    "np.random.uniform(100)"
   ]
  },
  {
   "cell_type": "code",
   "execution_count": 12,
   "id": "e3df9ca4-4cc5-4701-96fb-e7766fb7db55",
   "metadata": {},
   "outputs": [
    {
     "data": {
      "text/plain": [
       "array([ 1.01132311, 30.93092469, 15.52883319, 10.14152088, 19.43976093,\n",
       "       35.21051198, 40.27997995, 54.34285667, 42.50025693, 68.83673054])"
      ]
     },
     "execution_count": 12,
     "metadata": {},
     "output_type": "execute_result"
    }
   ],
   "source": [
    "np.random.uniform(1,100,10)"
   ]
  },
  {
   "cell_type": "code",
   "execution_count": 14,
   "id": "57545d9f-33b4-445b-873e-bf4fee31521a",
   "metadata": {},
   "outputs": [
    {
     "data": {
      "text/plain": [
       "array([[21.24077272, 87.9336262 ,  3.71137173, 67.37628351, 42.31317543],\n",
       "       [56.31029302, 14.89830692, 20.61204742, 80.2737123 , 96.857896  ]])"
      ]
     },
     "execution_count": 14,
     "metadata": {},
     "output_type": "execute_result"
    }
   ],
   "source": [
    "np.random.uniform(1,100,10).reshape(2,5)"
   ]
  },
  {
   "cell_type": "code",
   "execution_count": 18,
   "id": "0c9d4330-763d-4807-9aa7-af44ee03a232",
   "metadata": {},
   "outputs": [
    {
     "data": {
      "text/plain": [
       "7"
      ]
     },
     "execution_count": 18,
     "metadata": {},
     "output_type": "execute_result"
    }
   ],
   "source": [
    "np.random.randint(1,10)"
   ]
  },
  {
   "cell_type": "code",
   "execution_count": 20,
   "id": "35e1a553-ceae-4db8-a233-531c8a5c0f2c",
   "metadata": {},
   "outputs": [
    {
     "data": {
      "text/plain": [
       "array([2, 1, 2, 9, 9])"
      ]
     },
     "execution_count": 20,
     "metadata": {},
     "output_type": "execute_result"
    }
   ],
   "source": [
    "np.random.randint(1,10,5)"
   ]
  },
  {
   "cell_type": "code",
   "execution_count": 26,
   "id": "7273a473-27ff-4d24-b97a-22734d85b050",
   "metadata": {},
   "outputs": [
    {
     "data": {
      "text/plain": [
       "array([[6, 2, 4, 5, 9],\n",
       "       [2, 5, 1, 4, 3],\n",
       "       [1, 5, 3, 8, 8]])"
      ]
     },
     "execution_count": 26,
     "metadata": {},
     "output_type": "execute_result"
    }
   ],
   "source": [
    "np.random.randint(1,10,15).reshape(3,5)"
   ]
  },
  {
   "cell_type": "code",
   "execution_count": 28,
   "id": "4edf9cb7-3fd6-4dff-9941-88b3e57a4484",
   "metadata": {},
   "outputs": [],
   "source": [
    "a=np.random.randint(1,10,6)"
   ]
  },
  {
   "cell_type": "code",
   "execution_count": 30,
   "id": "e9deb35a-074f-4a7a-aacc-9a8f71726720",
   "metadata": {},
   "outputs": [
    {
     "data": {
      "text/plain": [
       "array([9, 7, 4, 8, 8, 5])"
      ]
     },
     "execution_count": 30,
     "metadata": {},
     "output_type": "execute_result"
    }
   ],
   "source": [
    "a"
   ]
  },
  {
   "cell_type": "code",
   "execution_count": 34,
   "id": "a061a812-1fa4-403e-a3f2-009629d9c15e",
   "metadata": {},
   "outputs": [
    {
     "data": {
      "text/plain": [
       "9"
      ]
     },
     "execution_count": 34,
     "metadata": {},
     "output_type": "execute_result"
    }
   ],
   "source": [
    "np.max(a)"
   ]
  },
  {
   "cell_type": "code",
   "execution_count": 36,
   "id": "97a80c9a-5392-42d7-948a-1f1f617b13df",
   "metadata": {},
   "outputs": [
    {
     "data": {
      "text/plain": [
       "4"
      ]
     },
     "execution_count": 36,
     "metadata": {},
     "output_type": "execute_result"
    }
   ],
   "source": [
    "np.min(a)"
   ]
  },
  {
   "cell_type": "code",
   "execution_count": 38,
   "id": "b771ae0a-d309-4fef-823b-0b45bb8602c9",
   "metadata": {},
   "outputs": [
    {
     "data": {
      "text/plain": [
       "0"
      ]
     },
     "execution_count": 38,
     "metadata": {},
     "output_type": "execute_result"
    }
   ],
   "source": [
    "np.argmax(a)"
   ]
  },
  {
   "cell_type": "code",
   "execution_count": 40,
   "id": "e6d9e38f-e31a-4c91-8fd1-203407057ea1",
   "metadata": {},
   "outputs": [
    {
     "data": {
      "text/plain": [
       "4"
      ]
     },
     "execution_count": 40,
     "metadata": {},
     "output_type": "execute_result"
    }
   ],
   "source": [
    "a[np.argmin(a)]"
   ]
  },
  {
   "cell_type": "code",
   "execution_count": 42,
   "id": "a92efdc5-383a-42f0-a95e-6442e2fd5a81",
   "metadata": {},
   "outputs": [
    {
     "data": {
      "text/plain": [
       "2"
      ]
     },
     "execution_count": 42,
     "metadata": {},
     "output_type": "execute_result"
    }
   ],
   "source": [
    "np.argmin(a)"
   ]
  },
  {
   "cell_type": "code",
   "execution_count": 44,
   "id": "1c1aaf45-41bf-4237-b7a0-0d6cd875660b",
   "metadata": {},
   "outputs": [],
   "source": [
    "a=np.random.randint(1,10,6)"
   ]
  },
  {
   "cell_type": "code",
   "execution_count": 46,
   "id": "1baa33ec-bcc8-4b0e-bc80-9872a1e2a074",
   "metadata": {},
   "outputs": [
    {
     "data": {
      "text/plain": [
       "array([6, 4, 7, 9, 1, 3])"
      ]
     },
     "execution_count": 46,
     "metadata": {},
     "output_type": "execute_result"
    }
   ],
   "source": [
    "a\n"
   ]
  },
  {
   "cell_type": "code",
   "execution_count": 48,
   "id": "5482ba5b-d636-47b7-8b7b-ede8bd7956a8",
   "metadata": {},
   "outputs": [
    {
     "data": {
      "text/plain": [
       "array([ 6,  4, -1, -1, -1, -1])"
      ]
     },
     "execution_count": 48,
     "metadata": {},
     "output_type": "execute_result"
    }
   ],
   "source": [
    "a[a%2==1]=-1\n",
    "a"
   ]
  },
  {
   "cell_type": "code",
   "execution_count": 50,
   "id": "a017fc89-7361-487e-ac75-6c35028d2e57",
   "metadata": {},
   "outputs": [
    {
     "data": {
      "text/plain": [
       "array([11, 24, 16, 48, 24, 26])"
      ]
     },
     "execution_count": 50,
     "metadata": {},
     "output_type": "execute_result"
    }
   ],
   "source": [
    "a=np.random.randint(1,50,6)\n",
    "a"
   ]
  },
  {
   "cell_type": "code",
   "execution_count": 54,
   "id": "e838386c-3bb1-47c1-834e-8b5ebedcb7cc",
   "metadata": {},
   "outputs": [
    {
     "data": {
      "text/plain": [
       "array([-1, 24, 16, 48, 24, 26])"
      ]
     },
     "execution_count": 54,
     "metadata": {},
     "output_type": "execute_result"
    }
   ],
   "source": [
    "np.where(a%2==1,-1,a)"
   ]
  },
  {
   "cell_type": "code",
   "execution_count": 56,
   "id": "23841421-c4bc-4b5b-b587-7595d58db2ab",
   "metadata": {},
   "outputs": [
    {
     "data": {
      "text/plain": [
       "array([11, 24, 16, 48, 24, 26])"
      ]
     },
     "execution_count": 56,
     "metadata": {},
     "output_type": "execute_result"
    }
   ],
   "source": [
    "a\n"
   ]
  },
  {
   "cell_type": "code",
   "execution_count": 58,
   "id": "216b07aa-598d-4b90-add7-620c9addbba7",
   "metadata": {},
   "outputs": [],
   "source": [
    "out=np.where(a%2==1,-1,a)"
   ]
  },
  {
   "cell_type": "code",
   "execution_count": 60,
   "id": "90f428db-763d-4213-b694-d626205731c4",
   "metadata": {},
   "outputs": [
    {
     "data": {
      "text/plain": [
       "array([-1, 24, 16, 48, 24, 26])"
      ]
     },
     "execution_count": 60,
     "metadata": {},
     "output_type": "execute_result"
    }
   ],
   "source": [
    "out"
   ]
  },
  {
   "cell_type": "code",
   "execution_count": 62,
   "id": "c05741b0-36cd-4419-83b1-85e1aba6083a",
   "metadata": {},
   "outputs": [
    {
     "data": {
      "text/plain": [
       "array([ 8, 29, 11, 47, 33, 25])"
      ]
     },
     "execution_count": 62,
     "metadata": {},
     "output_type": "execute_result"
    }
   ],
   "source": [
    "a=np.random.randint(1,50,6)\n",
    "a"
   ]
  },
  {
   "cell_type": "code",
   "execution_count": 66,
   "id": "8a2a31ed-e752-4a52-98bc-2901624d4f5e",
   "metadata": {},
   "outputs": [
    {
     "data": {
      "text/plain": [
       "array([ 8, 11, 25, 29, 33, 47])"
      ]
     },
     "execution_count": 66,
     "metadata": {},
     "output_type": "execute_result"
    }
   ],
   "source": [
    "a=np.sort(a)\n",
    "a"
   ]
  },
  {
   "cell_type": "code",
   "execution_count": 68,
   "id": "f109c283-0c56-4c6d-823e-db062894e6c7",
   "metadata": {},
   "outputs": [
    {
     "data": {
      "text/plain": [
       "14.5"
      ]
     },
     "execution_count": 68,
     "metadata": {},
     "output_type": "execute_result"
    }
   ],
   "source": [
    "np.percentile(a,25)"
   ]
  },
  {
   "cell_type": "code",
   "execution_count": 70,
   "id": "acaec1cc-510d-4b63-a4da-3bc00fca819e",
   "metadata": {},
   "outputs": [
    {
     "data": {
      "text/plain": [
       "27.0"
      ]
     },
     "execution_count": 70,
     "metadata": {},
     "output_type": "execute_result"
    }
   ],
   "source": [
    "np.percentile(a,50)"
   ]
  },
  {
   "cell_type": "code",
   "execution_count": 72,
   "id": "cee3e730-03b4-4164-8be2-7b3ebe836263",
   "metadata": {},
   "outputs": [
    {
     "data": {
      "text/plain": [
       "46.86"
      ]
     },
     "execution_count": 72,
     "metadata": {},
     "output_type": "execute_result"
    }
   ],
   "source": [
    "np.percentile(a,99.8)"
   ]
  },
  {
   "cell_type": "code",
   "execution_count": null,
   "id": "809d311b-2efe-4e28-8256-b1d4f56a9cdb",
   "metadata": {},
   "outputs": [],
   "source": []
  }
 ],
 "metadata": {
  "kernelspec": {
   "display_name": "Python [conda env:base] *",
   "language": "python",
   "name": "conda-base-py"
  },
  "language_info": {
   "codemirror_mode": {
    "name": "ipython",
    "version": 3
   },
   "file_extension": ".py",
   "mimetype": "text/x-python",
   "name": "python",
   "nbconvert_exporter": "python",
   "pygments_lexer": "ipython3",
   "version": "3.12.7"
  }
 },
 "nbformat": 4,
 "nbformat_minor": 5
}
