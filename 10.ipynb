{
 "cells": [
  {
   "cell_type": "code",
   "execution_count": 2,
   "id": "554b79bd-f55a-4066-883a-16a9a15e2351",
   "metadata": {},
   "outputs": [],
   "source": [
    "import numpy as np"
   ]
  },
  {
   "cell_type": "code",
   "execution_count": 6,
   "id": "df3c2dd5-e26f-4fc3-9bb2-fcb1e6b580d0",
   "metadata": {},
   "outputs": [
    {
     "data": {
      "text/plain": [
       "array([[44,  8, 83, 92, 38],\n",
       "       [89, 56, 86, 94, 98],\n",
       "       [ 5, 95, 28, 24, 58],\n",
       "       [67, 19, 97, 51, 56]])"
      ]
     },
     "execution_count": 6,
     "metadata": {},
     "output_type": "execute_result"
    }
   ],
   "source": [
    "arr=np.random.randint(low=1,high=100,size=20).reshape(4,5)\n",
    "arr"
   ]
  },
  {
   "cell_type": "code",
   "execution_count": 8,
   "id": "48a3908e-0626-4f84-9990-a27e8d440265",
   "metadata": {},
   "outputs": [
    {
     "data": {
      "text/plain": [
       "array([44,  8, 83, 92, 38])"
      ]
     },
     "execution_count": 8,
     "metadata": {},
     "output_type": "execute_result"
    }
   ],
   "source": [
    "arr[0]"
   ]
  },
  {
   "cell_type": "code",
   "execution_count": 10,
   "id": "d20d0b38-0e14-454b-952b-63619af8ac46",
   "metadata": {},
   "outputs": [
    {
     "data": {
      "text/plain": [
       "83"
      ]
     },
     "execution_count": 10,
     "metadata": {},
     "output_type": "execute_result"
    }
   ],
   "source": [
    "arr[0][2]"
   ]
  },
  {
   "cell_type": "code",
   "execution_count": 12,
   "id": "446c5374-f767-4e08-b2db-1665c00ddeae",
   "metadata": {},
   "outputs": [
    {
     "data": {
      "text/plain": [
       "array([[False, False,  True,  True, False],\n",
       "       [ True,  True,  True,  True,  True],\n",
       "       [False,  True, False, False,  True],\n",
       "       [ True, False,  True,  True,  True]])"
      ]
     },
     "execution_count": 12,
     "metadata": {},
     "output_type": "execute_result"
    }
   ],
   "source": [
    "arr>50"
   ]
  },
  {
   "cell_type": "code",
   "execution_count": 14,
   "id": "5a662a1c-da79-4fd6-acd6-4ca68adabaac",
   "metadata": {},
   "outputs": [
    {
     "data": {
      "text/plain": [
       "(4, 5)"
      ]
     },
     "execution_count": 14,
     "metadata": {},
     "output_type": "execute_result"
    }
   ],
   "source": [
    "(arr>50).shape"
   ]
  },
  {
   "cell_type": "code",
   "execution_count": 18,
   "id": "8ff8c723-cb27-48e2-8532-4a7a59b41836",
   "metadata": {},
   "outputs": [
    {
     "data": {
      "text/plain": [
       "array([83, 92, 89, 56, 86, 94, 98, 95, 58, 67, 97, 51, 56])"
      ]
     },
     "execution_count": 18,
     "metadata": {},
     "output_type": "execute_result"
    }
   ],
   "source": [
    "#indexing using bollean array\n",
    "arr[arr>50]\n"
   ]
  },
  {
   "cell_type": "code",
   "execution_count": 22,
   "id": "82e72b28-031f-4315-9fd5-9fbc081d4ce6",
   "metadata": {},
   "outputs": [
    {
     "data": {
      "text/plain": [
       "array([83, 89, 95, 67, 97, 51])"
      ]
     },
     "execution_count": 22,
     "metadata": {},
     "output_type": "execute_result"
    }
   ],
   "source": [
    "arr[(arr>50)&(arr%2!=0)]"
   ]
  },
  {
   "cell_type": "code",
   "execution_count": 24,
   "id": "87137000-0211-44b4-b552-4b70a44ec152",
   "metadata": {},
   "outputs": [
    {
     "data": {
      "text/plain": [
       "array([[44,  8,  0, 92, 38],\n",
       "       [ 0, 56, 86, 94, 98],\n",
       "       [ 5,  0, 28, 24, 58],\n",
       "       [ 0, 19,  0,  0, 56]])"
      ]
     },
     "execution_count": 24,
     "metadata": {},
     "output_type": "execute_result"
    }
   ],
   "source": [
    "arr[(arr>50)&(arr%2!=0)]=0\n",
    "arr"
   ]
  },
  {
   "cell_type": "code",
   "execution_count": null,
   "id": "6d93153f-9767-4513-b238-03332b6208c9",
   "metadata": {},
   "outputs": [],
   "source": []
  }
 ],
 "metadata": {
  "kernelspec": {
   "display_name": "Python [conda env:base] *",
   "language": "python",
   "name": "conda-base-py"
  },
  "language_info": {
   "codemirror_mode": {
    "name": "ipython",
    "version": 3
   },
   "file_extension": ".py",
   "mimetype": "text/x-python",
   "name": "python",
   "nbconvert_exporter": "python",
   "pygments_lexer": "ipython3",
   "version": "3.12.7"
  }
 },
 "nbformat": 4,
 "nbformat_minor": 5
}
