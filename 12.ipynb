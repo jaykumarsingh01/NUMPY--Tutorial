{
 "cells": [
  {
   "cell_type": "code",
   "execution_count": 2,
   "id": "b527c83f-cbde-4193-963b-f669ff2c2d87",
   "metadata": {},
   "outputs": [],
   "source": [
    "import numpy as np"
   ]
  },
  {
   "cell_type": "code",
   "execution_count": 4,
   "id": "1e9aa503-5b48-4d54-96d3-5c471ad77d05",
   "metadata": {},
   "outputs": [
    {
     "name": "stdout",
     "output_type": "stream",
     "text": [
      "[[0 1 2 3]\n",
      " [4 5 6 7]]\n",
      "[[ 8  9 10 11]\n",
      " [12 13 14 15]]\n"
     ]
    }
   ],
   "source": [
    "a1=np.arange(8).reshape(2,4)\n",
    "a2=np.arange(8,16).reshape(2,4)\n",
    "\n",
    "print(a1)\n",
    "print(a2)"
   ]
  },
  {
   "cell_type": "code",
   "execution_count": 6,
   "id": "cc8c3b58-583e-4d87-9903-794378b767fa",
   "metadata": {},
   "outputs": [
    {
     "data": {
      "text/plain": [
       "array([[ 8, 10, 12, 14],\n",
       "       [16, 18, 20, 22]])"
      ]
     },
     "execution_count": 6,
     "metadata": {},
     "output_type": "execute_result"
    }
   ],
   "source": [
    "a1+a2"
   ]
  },
  {
   "cell_type": "code",
   "execution_count": 10,
   "id": "3422eb05-c87c-4d1f-aa87-219b67665e22",
   "metadata": {},
   "outputs": [
    {
     "name": "stdout",
     "output_type": "stream",
     "text": [
      "[[0 1 2]\n",
      " [3 4 5]\n",
      " [6 7 8]] [[0 1 2]]\n"
     ]
    }
   ],
   "source": [
    "a3=np.arange(9).reshape(3,3)\n",
    "a4=np.arange(3).reshape(1,3)\n",
    "\n",
    "print(a3,a4)"
   ]
  },
  {
   "cell_type": "code",
   "execution_count": 12,
   "id": "0bcb1573-f1e5-4b69-9ce5-dbf5b48a1745",
   "metadata": {},
   "outputs": [
    {
     "data": {
      "text/plain": [
       "array([[ 0,  2,  4],\n",
       "       [ 3,  5,  7],\n",
       "       [ 6,  8, 10]])"
      ]
     },
     "execution_count": 12,
     "metadata": {},
     "output_type": "execute_result"
    }
   ],
   "source": [
    "a3+a4"
   ]
  },
  {
   "cell_type": "markdown",
   "id": "cf0ba506-3045-44ce-865b-26b39dd4eb55",
   "metadata": {},
   "source": [
    "\n",
    "\n",
    "\n",
    "Rules for Broadcasting\n",
    "\n"
   ]
  },
  {
   "cell_type": "code",
   "execution_count": 15,
   "id": "40daf664-7b26-4d12-ab4d-2817b170d0b5",
   "metadata": {},
   "outputs": [
    {
     "data": {
      "text/plain": [
       "array([[ 8, 10, 12, 14],\n",
       "       [16, 18, 20, 22]])"
      ]
     },
     "execution_count": 15,
     "metadata": {},
     "output_type": "execute_result"
    }
   ],
   "source": [
    "#if x=m and y= n,operation should take place\n",
    "a1=np.arange(8).reshape(2,4)\n",
    "a2=np.arange(8,16).reshape(2,4)\n",
    "\n",
    "a1+a2"
   ]
  },
  {
   "cell_type": "code",
   "execution_count": 20,
   "id": "14d74d6b-9a82-491f-9001-12f27d0c799e",
   "metadata": {},
   "outputs": [
    {
     "name": "stdout",
     "output_type": "stream",
     "text": [
      "[[0 1 2]]\n",
      "[[ 0  1  2]\n",
      " [ 3  4  5]\n",
      " [ 6  7  8]\n",
      " [ 9 10 11]]\n"
     ]
    }
   ],
   "source": [
    "# if x=1 and y=n,then also operation will take place(same dimension)\n",
    "\n",
    "a5=np.arange(3).reshape(1,3)\n",
    "a6=np.arange(12).reshape(4,3)\n",
    "\n",
    "print(a5)\n",
    "print(a6)"
   ]
  },
  {
   "cell_type": "code",
   "execution_count": 22,
   "id": "f3935a62-df68-4390-a09e-3a8e72c206cd",
   "metadata": {},
   "outputs": [
    {
     "data": {
      "text/plain": [
       "array([[ 0,  2,  4],\n",
       "       [ 3,  5,  7],\n",
       "       [ 6,  8, 10],\n",
       "       [ 9, 11, 13]])"
      ]
     },
     "execution_count": 22,
     "metadata": {},
     "output_type": "execute_result"
    }
   ],
   "source": [
    "a5+a6"
   ]
  },
  {
   "cell_type": "code",
   "execution_count": 24,
   "id": "058eda36-f53c-4143-961a-9f80f9ff58f2",
   "metadata": {},
   "outputs": [],
   "source": [
    "a7=np.arange(4).reshape(4,1)\n",
    "a8=np.arange(12).reshape(4,3)"
   ]
  },
  {
   "cell_type": "code",
   "execution_count": 26,
   "id": "d39d81a4-158b-4ce5-8ea2-17c0bb65a734",
   "metadata": {},
   "outputs": [
    {
     "name": "stdout",
     "output_type": "stream",
     "text": [
      "[[0]\n",
      " [1]\n",
      " [2]\n",
      " [3]]\n",
      "[[ 0  1  2]\n",
      " [ 3  4  5]\n",
      " [ 6  7  8]\n",
      " [ 9 10 11]]\n"
     ]
    }
   ],
   "source": [
    "print(a7)\n",
    "print(a8)"
   ]
  },
  {
   "cell_type": "code",
   "execution_count": 28,
   "id": "f1f9d5fa-37f2-4abb-8968-9c21f0aa31f4",
   "metadata": {},
   "outputs": [
    {
     "data": {
      "text/plain": [
       "array([[ 0,  1,  2],\n",
       "       [ 4,  5,  6],\n",
       "       [ 8,  9, 10],\n",
       "       [12, 13, 14]])"
      ]
     },
     "execution_count": 28,
     "metadata": {},
     "output_type": "execute_result"
    }
   ],
   "source": [
    "a7+a8"
   ]
  },
  {
   "cell_type": "code",
   "execution_count": 36,
   "id": "c22d0779-943a-463b-bcfe-967162bfc46f",
   "metadata": {},
   "outputs": [
    {
     "name": "stdout",
     "output_type": "stream",
     "text": [
      "[[0 1 2]]\n",
      "[[ 0  1  2  3]\n",
      " [ 4  5  6  7]\n",
      " [ 8  9 10 11]\n",
      " [12 13 14 15]]\n"
     ]
    }
   ],
   "source": [
    "a9=np.arange(3).reshape(1,3)\n",
    "a10=np.arange(16).reshape(4,4)\n",
    "\n",
    "print(a9)\n",
    "print(a10)"
   ]
  },
  {
   "cell_type": "code",
   "execution_count": 38,
   "id": "d44351ba-fc7f-4b15-9f6d-c90faf7acd7f",
   "metadata": {},
   "outputs": [
    {
     "ename": "ValueError",
     "evalue": "operands could not be broadcast together with shapes (1,3) (4,4) ",
     "output_type": "error",
     "traceback": [
      "\u001b[1;31m---------------------------------------------------------------------------\u001b[0m",
      "\u001b[1;31mValueError\u001b[0m                                Traceback (most recent call last)",
      "Cell \u001b[1;32mIn[38], line 1\u001b[0m\n\u001b[1;32m----> 1\u001b[0m a9\u001b[38;5;241m+\u001b[39ma10\n",
      "\u001b[1;31mValueError\u001b[0m: operands could not be broadcast together with shapes (1,3) (4,4) "
     ]
    }
   ],
   "source": [
    "a9+a10"
   ]
  },
  {
   "cell_type": "code",
   "execution_count": 40,
   "id": "2f8eb1c5-6cf2-4b61-91e4-95e3ac0a64ad",
   "metadata": {},
   "outputs": [
    {
     "name": "stdout",
     "output_type": "stream",
     "text": [
      "[[0 1 2]]\n",
      "[[0]\n",
      " [1]\n",
      " [2]]\n"
     ]
    }
   ],
   "source": [
    "a11=np.arange(3).reshape(1,3)\n",
    "a12=np.arange(3).reshape(3,1)\n",
    "\n",
    "print(a11)\n",
    "print(a12)"
   ]
  },
  {
   "cell_type": "code",
   "execution_count": 42,
   "id": "298f5032-cb34-4efd-8881-91e4462d859e",
   "metadata": {},
   "outputs": [
    {
     "data": {
      "text/plain": [
       "array([[0, 1, 2],\n",
       "       [1, 2, 3],\n",
       "       [2, 3, 4]])"
      ]
     },
     "execution_count": 42,
     "metadata": {},
     "output_type": "execute_result"
    }
   ],
   "source": [
    "a11+a12"
   ]
  },
  {
   "cell_type": "code",
   "execution_count": 44,
   "id": "078c27c3-833a-4995-999d-8a9c4bfce23f",
   "metadata": {},
   "outputs": [
    {
     "name": "stdout",
     "output_type": "stream",
     "text": [
      "[[0]]\n",
      "[[ 0  1  2  3  4]\n",
      " [ 5  6  7  8  9]\n",
      " [10 11 12 13 14]\n",
      " [15 16 17 18 19]]\n"
     ]
    }
   ],
   "source": [
    "a13=np.arange(1).reshape(1,1)\n",
    "a14=np.arange(20).reshape(4,5)\n",
    "\n",
    "print(a13)\n",
    "print(a14)"
   ]
  },
  {
   "cell_type": "code",
   "execution_count": 46,
   "id": "bbb50d82-87d7-42ff-a63b-77993af25b8b",
   "metadata": {},
   "outputs": [
    {
     "data": {
      "text/plain": [
       "array([[ 0,  1,  2,  3,  4],\n",
       "       [ 5,  6,  7,  8,  9],\n",
       "       [10, 11, 12, 13, 14],\n",
       "       [15, 16, 17, 18, 19]])"
      ]
     },
     "execution_count": 46,
     "metadata": {},
     "output_type": "execute_result"
    }
   ],
   "source": [
    "a13+a14"
   ]
  },
  {
   "cell_type": "code",
   "execution_count": 48,
   "id": "cfe2daa2-24e0-4750-a2ed-2340d74bf916",
   "metadata": {},
   "outputs": [
    {
     "name": "stdout",
     "output_type": "stream",
     "text": [
      "[0 1 2 3]\n",
      "16\n"
     ]
    }
   ],
   "source": [
    "a15=np.arange(4)\n",
    "a16=np.arange(20).reshape(5,4)\n",
    "\n",
    "print(a15)\n",
    "print(16)"
   ]
  },
  {
   "cell_type": "code",
   "execution_count": 50,
   "id": "7096cdea-2885-438b-9703-df77341c54e9",
   "metadata": {},
   "outputs": [
    {
     "data": {
      "text/plain": [
       "array([[ 0,  2,  4,  6],\n",
       "       [ 4,  6,  8, 10],\n",
       "       [ 8, 10, 12, 14],\n",
       "       [12, 14, 16, 18],\n",
       "       [16, 18, 20, 22]])"
      ]
     },
     "execution_count": 50,
     "metadata": {},
     "output_type": "execute_result"
    }
   ],
   "source": [
    "a15+a16"
   ]
  },
  {
   "cell_type": "code",
   "execution_count": null,
   "id": "3143da6d-f021-43b5-abb4-13244fbea826",
   "metadata": {},
   "outputs": [],
   "source": []
  }
 ],
 "metadata": {
  "kernelspec": {
   "display_name": "Python [conda env:base] *",
   "language": "python",
   "name": "conda-base-py"
  },
  "language_info": {
   "codemirror_mode": {
    "name": "ipython",
    "version": 3
   },
   "file_extension": ".py",
   "mimetype": "text/x-python",
   "name": "python",
   "nbconvert_exporter": "python",
   "pygments_lexer": "ipython3",
   "version": "3.12.7"
  }
 },
 "nbformat": 4,
 "nbformat_minor": 5
}
